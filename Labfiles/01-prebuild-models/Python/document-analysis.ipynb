{
 "cells": [
  {
   "cell_type": "code",
   "execution_count": 1,
   "metadata": {},
   "outputs": [],
   "source": [
    "endpoint = \"https://apil-document-intel-instance.cognitiveservices.azure.com/\"\n",
    "key = \"<insert key>\""
   ]
  },
  {
   "cell_type": "code",
   "execution_count": 5,
   "metadata": {},
   "outputs": [],
   "source": [
    "from azure.ai.formrecognizer import DocumentAnalysisClient\n",
    "from azure.core.credentials import AzureKeyCredential\n"
   ]
  },
  {
   "cell_type": "code",
   "execution_count": 6,
   "metadata": {},
   "outputs": [],
   "source": [
    "document_analysis_client = DocumentAnalysisClient(endpoint, AzureKeyCredential(key))"
   ]
  },
  {
   "cell_type": "code",
   "execution_count": 9,
   "metadata": {},
   "outputs": [],
   "source": [
    "fileUri = \"https://github.com/MicrosoftLearning/mslearn-ai-document-intelligence/blob/main/Labfiles/01-prebuild-models/sample-invoice/sample-invoice.pdf?raw=true\"\n",
    "fileLocale = \"en-US\"\n",
    "fileModelId = \"prebuilt-invoice\""
   ]
  },
  {
   "cell_type": "code",
   "execution_count": 10,
   "metadata": {},
   "outputs": [],
   "source": [
    "poller = document_analysis_client.begin_analyze_document_from_url(model_id=fileModelId, locale=fileLocale, document_url=fileUri)    "
   ]
  },
  {
   "cell_type": "code",
   "execution_count": 11,
   "metadata": {},
   "outputs": [],
   "source": [
    "receipts = poller.result()"
   ]
  },
  {
   "cell_type": "code",
   "execution_count": 13,
   "metadata": {},
   "outputs": [
    {
     "name": "stdout",
     "output_type": "stream",
     "text": [
      "Receipt 0\n",
      "Customer Name: 'MICROSOFT CORPORATION, with confidence 0.919.\n",
      "Invoice Total: '$110.0, with confidence 0.969.\n"
     ]
    }
   ],
   "source": [
    "for idx, receipt in enumerate(receipts.documents):\n",
    "    print(f\"Receipt {idx}\")\n",
    "    customer_name = receipt.fields.get(\"CustomerName\")\n",
    "    if customer_name:\n",
    "        print(f\"Customer Name: '{customer_name.value}, with confidence {customer_name.confidence}.\")\n",
    "\n",
    "    invoice_total = receipt.fields.get(\"InvoiceTotal\")\n",
    "    if invoice_total:\n",
    "        print(f\"Invoice Total: '{invoice_total.value.symbol}{invoice_total.value.amount}, with confidence {invoice_total.confidence}.\")"
   ]
  },
  {
   "cell_type": "code",
   "execution_count": 15,
   "metadata": {},
   "outputs": [
    {
     "data": {
      "text/html": [
       "\n",
       "        <iframe\n",
       "            width=\"700\"\n",
       "            height=\"600\"\n",
       "            src=\"../sample-invoice/sample-invoice.pdf\"\n",
       "            frameborder=\"0\"\n",
       "            allowfullscreen\n",
       "            \n",
       "        ></iframe>\n",
       "        "
      ],
      "text/plain": [
       "<IPython.lib.display.IFrame at 0x10ba01c50>"
      ]
     },
     "execution_count": 15,
     "metadata": {},
     "output_type": "execute_result"
    }
   ],
   "source": [
    "from IPython.display import IFrame\n",
    "IFrame(src='../sample-invoice/sample-invoice.pdf', width=700, height=600)"
   ]
  },
  {
   "cell_type": "code",
   "execution_count": null,
   "metadata": {},
   "outputs": [],
   "source": []
  }
 ],
 "metadata": {
  "kernelspec": {
   "display_name": "ai-learn",
   "language": "python",
   "name": "python3"
  },
  "language_info": {
   "codemirror_mode": {
    "name": "ipython",
    "version": 3
   },
   "file_extension": ".py",
   "mimetype": "text/x-python",
   "name": "python",
   "nbconvert_exporter": "python",
   "pygments_lexer": "ipython3",
   "version": "3.11.9"
  },
  "orig_nbformat": 4,
  "vscode": {
   "interpreter": {
    "hash": "b6825e47c5122688069373c1c53c81fe3ca942cdeb5ae363f88ac19b8a5793ba"
   }
  }
 },
 "nbformat": 4,
 "nbformat_minor": 2
}
